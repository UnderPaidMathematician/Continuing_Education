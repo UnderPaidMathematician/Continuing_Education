{
 "cells": [
  {
   "cell_type": "code",
   "execution_count": 117,
   "source": [
    "import pandas as pd\r\n",
    "import numpy as np\r\n",
    "\r\n",
    "my_data = pd.read_csv(r\"C:\\Users\\jason\\Documents\\GitHub\\Continuing_Education\\Integrating_Tableau_Python_SQL\\Data\\df_preprocessed.csv\")\r\n",
    "print(my_data.head())"
   ],
   "outputs": [
    {
     "output_type": "stream",
     "name": "stdout",
     "text": [
      "   Reason_1  Reason_2  Reason_3  Reason_4  Month Value  Day of the Week  \\\n",
      "0         0         0         0         1            7                1   \n",
      "1         0         0         0         0            7                1   \n",
      "2         0         0         0         1            7                2   \n",
      "3         1         0         0         0            7                3   \n",
      "4         0         0         0         1            7                3   \n",
      "\n",
      "   Transportation Expense  Distance to Work  Age  Daily Work Load Average  \\\n",
      "0                     289                36   33                  239.554   \n",
      "1                     118                13   50                  239.554   \n",
      "2                     179                51   38                  239.554   \n",
      "3                     279                 5   39                  239.554   \n",
      "4                     289                36   33                  239.554   \n",
      "\n",
      "   Body Mass Index  Education  Children  Pets  Absenteeism Time in Hours  \n",
      "0               30          0         2     1                          4  \n",
      "1               31          0         1     0                          0  \n",
      "2               31          0         0     0                          2  \n",
      "3               24          0         2     0                          4  \n",
      "4               30          0         2     1                          2  \n"
     ]
    }
   ],
   "metadata": {}
  },
  {
   "cell_type": "code",
   "execution_count": 118,
   "source": [
    "print(my_data[\"Education\"].value_counts())"
   ],
   "outputs": [
    {
     "output_type": "stream",
     "name": "stdout",
     "text": [
      "0    583\n",
      "1    117\n",
      "Name: Education, dtype: int64\n"
     ]
    }
   ],
   "metadata": {}
  },
  {
   "cell_type": "code",
   "execution_count": 119,
   "source": [
    "my_data[\"Absenteeism Time in Hours\"].median()"
   ],
   "outputs": [
    {
     "output_type": "execute_result",
     "data": {
      "text/plain": [
       "3.0"
      ]
     },
     "metadata": {},
     "execution_count": 119
    }
   ],
   "metadata": {}
  },
  {
   "cell_type": "code",
   "execution_count": 120,
   "source": [
    "list_more_than_3 = []\r\n",
    "for index, values in enumerate(my_data[\"Absenteeism Time in Hours\"]):\r\n",
    "    if values > 3:\r\n",
    "        list_more_than_3.append(1)\r\n",
    "    elif values <= 3:\r\n",
    "        list_more_than_3.append(0)\r\n",
    "\r\n",
    "my_data[\"Excessive_absenteeism\"] = list_more_than_3\r\n",
    "\r\n",
    "print(my_data.head())"
   ],
   "outputs": [
    {
     "output_type": "stream",
     "name": "stdout",
     "text": [
      "   Reason_1  Reason_2  Reason_3  Reason_4  Month Value  Day of the Week  \\\n",
      "0         0         0         0         1            7                1   \n",
      "1         0         0         0         0            7                1   \n",
      "2         0         0         0         1            7                2   \n",
      "3         1         0         0         0            7                3   \n",
      "4         0         0         0         1            7                3   \n",
      "\n",
      "   Transportation Expense  Distance to Work  Age  Daily Work Load Average  \\\n",
      "0                     289                36   33                  239.554   \n",
      "1                     118                13   50                  239.554   \n",
      "2                     179                51   38                  239.554   \n",
      "3                     279                 5   39                  239.554   \n",
      "4                     289                36   33                  239.554   \n",
      "\n",
      "   Body Mass Index  Education  Children  Pets  Absenteeism Time in Hours  \\\n",
      "0               30          0         2     1                          4   \n",
      "1               31          0         1     0                          0   \n",
      "2               31          0         0     0                          2   \n",
      "3               24          0         2     0                          4   \n",
      "4               30          0         2     1                          2   \n",
      "\n",
      "   Excessive_absenteeism  \n",
      "0                      1  \n",
      "1                      0  \n",
      "2                      0  \n",
      "3                      1  \n",
      "4                      0  \n"
     ]
    }
   ],
   "metadata": {}
  },
  {
   "cell_type": "code",
   "execution_count": 121,
   "source": [
    "# checkpoint\r\n",
    "cp_my_data_after_adding_excessive_absenteeism = my_data\r\n"
   ],
   "outputs": [],
   "metadata": {}
  },
  {
   "cell_type": "code",
   "execution_count": 122,
   "source": [
    "# another way to do this with numpy\r\n",
    "\r\n",
    "targets = np.where(my_data[\"Absenteeism Time in Hours\"] > my_data[\"Absenteeism Time in Hours\"].median(), 1, 0)\r\n",
    "\r\n",
    "check_list = [targets == my_data[\"Excessive_absenteeism\"]]\r\n",
    "\r\n",
    "# There should be no difference found. I typically try and build code before getting to suggestions on the course I am working on. \r\n",
    "\r\n",
    "for val in check_list:\r\n",
    "    if val.any() == False:\r\n",
    "        print(\"Difference found\")\r\n",
    "\r\n"
   ],
   "outputs": [],
   "metadata": {}
  },
  {
   "cell_type": "code",
   "execution_count": 123,
   "source": [
    "# testing to see if my distribution is evenly distributed\r\n",
    "\r\n",
    "print(targets.sum() / targets.shape[0])"
   ],
   "outputs": [
    {
     "output_type": "stream",
     "name": "stdout",
     "text": [
      "0.45571428571428574\n"
     ]
    }
   ],
   "metadata": {}
  },
  {
   "cell_type": "code",
   "execution_count": 124,
   "source": [
    "# This means that about 45% are ones"
   ],
   "outputs": [],
   "metadata": {}
  },
  {
   "cell_type": "code",
   "execution_count": 125,
   "source": [
    "data_with_targets = my_data.drop([\"Absenteeism Time in Hours\"], axis=1)"
   ],
   "outputs": [],
   "metadata": {}
  },
  {
   "cell_type": "code",
   "execution_count": 126,
   "source": [
    "data_with_targets is my_data"
   ],
   "outputs": [
    {
     "output_type": "execute_result",
     "data": {
      "text/plain": [
       "False"
      ]
     },
     "metadata": {},
     "execution_count": 126
    }
   ],
   "metadata": {}
  },
  {
   "cell_type": "code",
   "execution_count": 127,
   "source": [
    "data_with_targets.head()"
   ],
   "outputs": [
    {
     "output_type": "execute_result",
     "data": {
      "text/html": [
       "<div>\n",
       "<style scoped>\n",
       "    .dataframe tbody tr th:only-of-type {\n",
       "        vertical-align: middle;\n",
       "    }\n",
       "\n",
       "    .dataframe tbody tr th {\n",
       "        vertical-align: top;\n",
       "    }\n",
       "\n",
       "    .dataframe thead th {\n",
       "        text-align: right;\n",
       "    }\n",
       "</style>\n",
       "<table border=\"1\" class=\"dataframe\">\n",
       "  <thead>\n",
       "    <tr style=\"text-align: right;\">\n",
       "      <th></th>\n",
       "      <th>Reason_1</th>\n",
       "      <th>Reason_2</th>\n",
       "      <th>Reason_3</th>\n",
       "      <th>Reason_4</th>\n",
       "      <th>Month Value</th>\n",
       "      <th>Day of the Week</th>\n",
       "      <th>Transportation Expense</th>\n",
       "      <th>Distance to Work</th>\n",
       "      <th>Age</th>\n",
       "      <th>Daily Work Load Average</th>\n",
       "      <th>Body Mass Index</th>\n",
       "      <th>Education</th>\n",
       "      <th>Children</th>\n",
       "      <th>Pets</th>\n",
       "      <th>Excessive_absenteeism</th>\n",
       "    </tr>\n",
       "  </thead>\n",
       "  <tbody>\n",
       "    <tr>\n",
       "      <th>0</th>\n",
       "      <td>0</td>\n",
       "      <td>0</td>\n",
       "      <td>0</td>\n",
       "      <td>1</td>\n",
       "      <td>7</td>\n",
       "      <td>1</td>\n",
       "      <td>289</td>\n",
       "      <td>36</td>\n",
       "      <td>33</td>\n",
       "      <td>239.554</td>\n",
       "      <td>30</td>\n",
       "      <td>0</td>\n",
       "      <td>2</td>\n",
       "      <td>1</td>\n",
       "      <td>1</td>\n",
       "    </tr>\n",
       "    <tr>\n",
       "      <th>1</th>\n",
       "      <td>0</td>\n",
       "      <td>0</td>\n",
       "      <td>0</td>\n",
       "      <td>0</td>\n",
       "      <td>7</td>\n",
       "      <td>1</td>\n",
       "      <td>118</td>\n",
       "      <td>13</td>\n",
       "      <td>50</td>\n",
       "      <td>239.554</td>\n",
       "      <td>31</td>\n",
       "      <td>0</td>\n",
       "      <td>1</td>\n",
       "      <td>0</td>\n",
       "      <td>0</td>\n",
       "    </tr>\n",
       "    <tr>\n",
       "      <th>2</th>\n",
       "      <td>0</td>\n",
       "      <td>0</td>\n",
       "      <td>0</td>\n",
       "      <td>1</td>\n",
       "      <td>7</td>\n",
       "      <td>2</td>\n",
       "      <td>179</td>\n",
       "      <td>51</td>\n",
       "      <td>38</td>\n",
       "      <td>239.554</td>\n",
       "      <td>31</td>\n",
       "      <td>0</td>\n",
       "      <td>0</td>\n",
       "      <td>0</td>\n",
       "      <td>0</td>\n",
       "    </tr>\n",
       "    <tr>\n",
       "      <th>3</th>\n",
       "      <td>1</td>\n",
       "      <td>0</td>\n",
       "      <td>0</td>\n",
       "      <td>0</td>\n",
       "      <td>7</td>\n",
       "      <td>3</td>\n",
       "      <td>279</td>\n",
       "      <td>5</td>\n",
       "      <td>39</td>\n",
       "      <td>239.554</td>\n",
       "      <td>24</td>\n",
       "      <td>0</td>\n",
       "      <td>2</td>\n",
       "      <td>0</td>\n",
       "      <td>1</td>\n",
       "    </tr>\n",
       "    <tr>\n",
       "      <th>4</th>\n",
       "      <td>0</td>\n",
       "      <td>0</td>\n",
       "      <td>0</td>\n",
       "      <td>1</td>\n",
       "      <td>7</td>\n",
       "      <td>3</td>\n",
       "      <td>289</td>\n",
       "      <td>36</td>\n",
       "      <td>33</td>\n",
       "      <td>239.554</td>\n",
       "      <td>30</td>\n",
       "      <td>0</td>\n",
       "      <td>2</td>\n",
       "      <td>1</td>\n",
       "      <td>0</td>\n",
       "    </tr>\n",
       "  </tbody>\n",
       "</table>\n",
       "</div>"
      ],
      "text/plain": [
       "   Reason_1  Reason_2  Reason_3  Reason_4  Month Value  Day of the Week  \\\n",
       "0         0         0         0         1            7                1   \n",
       "1         0         0         0         0            7                1   \n",
       "2         0         0         0         1            7                2   \n",
       "3         1         0         0         0            7                3   \n",
       "4         0         0         0         1            7                3   \n",
       "\n",
       "   Transportation Expense  Distance to Work  Age  Daily Work Load Average  \\\n",
       "0                     289                36   33                  239.554   \n",
       "1                     118                13   50                  239.554   \n",
       "2                     179                51   38                  239.554   \n",
       "3                     279                 5   39                  239.554   \n",
       "4                     289                36   33                  239.554   \n",
       "\n",
       "   Body Mass Index  Education  Children  Pets  Excessive_absenteeism  \n",
       "0               30          0         2     1                      1  \n",
       "1               31          0         1     0                      0  \n",
       "2               31          0         0     0                      0  \n",
       "3               24          0         2     0                      1  \n",
       "4               30          0         2     1                      0  "
      ]
     },
     "metadata": {},
     "execution_count": 127
    }
   ],
   "metadata": {}
  },
  {
   "cell_type": "code",
   "execution_count": 128,
   "source": [
    "x_features = data_with_targets.iloc[:, :-1]\r\n",
    "print(x_features.head())"
   ],
   "outputs": [
    {
     "output_type": "stream",
     "name": "stdout",
     "text": [
      "   Reason_1  Reason_2  Reason_3  Reason_4  Month Value  Day of the Week  \\\n",
      "0         0         0         0         1            7                1   \n",
      "1         0         0         0         0            7                1   \n",
      "2         0         0         0         1            7                2   \n",
      "3         1         0         0         0            7                3   \n",
      "4         0         0         0         1            7                3   \n",
      "\n",
      "   Transportation Expense  Distance to Work  Age  Daily Work Load Average  \\\n",
      "0                     289                36   33                  239.554   \n",
      "1                     118                13   50                  239.554   \n",
      "2                     179                51   38                  239.554   \n",
      "3                     279                 5   39                  239.554   \n",
      "4                     289                36   33                  239.554   \n",
      "\n",
      "   Body Mass Index  Education  Children  Pets  \n",
      "0               30          0         2     1  \n",
      "1               31          0         1     0  \n",
      "2               31          0         0     0  \n",
      "3               24          0         2     0  \n",
      "4               30          0         2     1  \n"
     ]
    }
   ],
   "metadata": {}
  },
  {
   "cell_type": "code",
   "execution_count": 129,
   "source": [
    "y_targets = data_with_targets.iloc[:,-1]\r\n",
    "print(y_targets.head())"
   ],
   "outputs": [
    {
     "output_type": "stream",
     "name": "stdout",
     "text": [
      "0    1\n",
      "1    0\n",
      "2    0\n",
      "3    1\n",
      "4    0\n",
      "Name: Excessive_absenteeism, dtype: int64\n"
     ]
    }
   ],
   "metadata": {}
  },
  {
   "cell_type": "code",
   "execution_count": 130,
   "source": [
    "# We need to standardize our y values. \r\n",
    "\r\n",
    "from sklearn.preprocessing import StandardScaler\r\n",
    "\r\n",
    "absenteeism_scaler = StandardScaler()\r\n",
    "absenteeism_scaler.fit(x_features)\r\n",
    "StandardScaler(copy=True, with_mean=True, with_std=True)\r\n",
    "scaled_inputs = absenteeism_scaler.transform(x_features)\r\n",
    "\r\n",
    "print(scaled_inputs)"
   ],
   "outputs": [
    {
     "output_type": "stream",
     "name": "stdout",
     "text": [
      "[[-0.57735027 -0.09298136 -0.31448545 ... -0.44798003  0.88046927\n",
      "   0.26848661]\n",
      " [-0.57735027 -0.09298136 -0.31448545 ... -0.44798003 -0.01928035\n",
      "  -0.58968976]\n",
      " [-0.57735027 -0.09298136 -0.31448545 ... -0.44798003 -0.91902997\n",
      "  -0.58968976]\n",
      " ...\n",
      " [ 1.73205081 -0.09298136 -0.31448545 ...  2.23224237 -0.91902997\n",
      "  -0.58968976]\n",
      " [-0.57735027 -0.09298136 -0.31448545 ...  2.23224237 -0.91902997\n",
      "  -0.58968976]\n",
      " [-0.57735027 -0.09298136 -0.31448545 ... -0.44798003 -0.01928035\n",
      "   0.26848661]]\n"
     ]
    }
   ],
   "metadata": {}
  },
  {
   "cell_type": "code",
   "execution_count": 131,
   "source": [
    "scaled_inputs.shape"
   ],
   "outputs": [
    {
     "output_type": "execute_result",
     "data": {
      "text/plain": [
       "(700, 14)"
      ]
     },
     "metadata": {},
     "execution_count": 131
    }
   ],
   "metadata": {}
  },
  {
   "cell_type": "code",
   "execution_count": 132,
   "source": [
    "from sklearn.model_selection import train_test_split\r\n",
    "\r\n",
    "x_train, x_test, y_train, y_test = train_test_split(scaled_inputs,targets, test_size = .8, shuffle=True)"
   ],
   "outputs": [],
   "metadata": {}
  },
  {
   "cell_type": "code",
   "execution_count": 133,
   "source": [
    "from sklearn.linear_model import LogisticRegression\r\n",
    "from sklearn import metrics\r\n",
    "\r\n"
   ],
   "outputs": [],
   "metadata": {}
  },
  {
   "cell_type": "code",
   "execution_count": 134,
   "source": [
    "reg = LogisticRegression(n_jobs=-1, verbose=1,)\r\n",
    "reg.fit(x_train,y_train)\r\n"
   ],
   "outputs": [
    {
     "output_type": "stream",
     "name": "stderr",
     "text": [
      "[Parallel(n_jobs=-1)]: Using backend LokyBackend with 24 concurrent workers.\n",
      "[Parallel(n_jobs=-1)]: Done   1 out of   1 | elapsed:    0.2s finished\n"
     ]
    },
    {
     "output_type": "execute_result",
     "data": {
      "text/plain": [
       "LogisticRegression(n_jobs=-1, verbose=1)"
      ]
     },
     "metadata": {},
     "execution_count": 134
    }
   ],
   "metadata": {}
  },
  {
   "cell_type": "code",
   "execution_count": 135,
   "source": [
    "reg.score(x_train,y_train)"
   ],
   "outputs": [
    {
     "output_type": "execute_result",
     "data": {
      "text/plain": [
       "0.7928571428571428"
      ]
     },
     "metadata": {},
     "execution_count": 135
    }
   ],
   "metadata": {}
  },
  {
   "cell_type": "code",
   "execution_count": 136,
   "source": [
    "# Building it from scratch\r\n",
    "model_outputs = reg.predict(x_train)"
   ],
   "outputs": [],
   "metadata": {}
  },
  {
   "cell_type": "code",
   "execution_count": 137,
   "source": [
    "model_outputs == y_train"
   ],
   "outputs": [
    {
     "output_type": "execute_result",
     "data": {
      "text/plain": [
       "array([ True,  True, False,  True,  True,  True,  True,  True,  True,\n",
       "       False,  True,  True,  True,  True,  True,  True, False,  True,\n",
       "        True, False,  True, False,  True, False,  True,  True,  True,\n",
       "        True,  True,  True,  True,  True,  True,  True, False, False,\n",
       "        True,  True,  True,  True,  True, False,  True,  True, False,\n",
       "        True,  True,  True,  True,  True, False, False,  True, False,\n",
       "        True,  True,  True,  True,  True,  True,  True,  True,  True,\n",
       "        True,  True, False,  True, False,  True,  True, False,  True,\n",
       "        True,  True,  True,  True,  True,  True,  True,  True,  True,\n",
       "        True,  True,  True,  True,  True, False,  True, False,  True,\n",
       "        True, False,  True,  True,  True,  True,  True,  True,  True,\n",
       "       False,  True,  True,  True,  True,  True,  True,  True, False,\n",
       "        True,  True,  True,  True,  True,  True, False,  True,  True,\n",
       "       False,  True,  True,  True,  True, False,  True,  True,  True,\n",
       "        True,  True,  True,  True,  True,  True, False, False, False,\n",
       "        True,  True, False, False,  True])"
      ]
     },
     "metadata": {},
     "execution_count": 137
    }
   ],
   "metadata": {}
  },
  {
   "cell_type": "code",
   "execution_count": 138,
   "source": [
    "accuracy_array = model_outputs==y_train"
   ],
   "outputs": [],
   "metadata": {}
  },
  {
   "cell_type": "code",
   "execution_count": 139,
   "source": [
    "print(f\"Correct Results: {np.sum((model_outputs==y_train))}\")\r\n",
    "print(f\"Total entries: {model_outputs.shape[0]}\")\r\n",
    "print(f\"Accuracy: {np.sum((model_outputs==y_train))/model_outputs.shape[0]}\")\r\n"
   ],
   "outputs": [
    {
     "output_type": "stream",
     "name": "stdout",
     "text": [
      "Correct Results: 111\n",
      "Total entries: 140\n",
      "Accuracy: 0.7928571428571428\n"
     ]
    }
   ],
   "metadata": {}
  },
  {
   "cell_type": "code",
   "execution_count": 140,
   "source": [
    "feature_name = x_features.columns.values\r\n",
    "\r\n",
    "summary_table = pd.DataFrame(columns=[\"Feature\"], data=feature_name)\r\n",
    "\r\n",
    "summary_table['Coefficient'] = np.transpose(reg.coef_)\r\n",
    "\r\n",
    "print(summary_table)"
   ],
   "outputs": [
    {
     "output_type": "stream",
     "name": "stdout",
     "text": [
      "                    Feature  Coefficient\n",
      "0                  Reason_1     1.797394\n",
      "1                  Reason_2     0.000037\n",
      "2                  Reason_3     1.118197\n",
      "3                  Reason_4     1.012192\n",
      "4               Month Value     0.070678\n",
      "5           Day of the Week    -0.356854\n",
      "6    Transportation Expense     0.627391\n",
      "7          Distance to Work    -0.310192\n",
      "8                       Age    -0.436648\n",
      "9   Daily Work Load Average    -0.108670\n",
      "10          Body Mass Index     0.562971\n",
      "11                Education    -0.234682\n",
      "12                 Children     0.554810\n",
      "13                     Pets    -0.052531\n"
     ]
    }
   ],
   "metadata": {}
  },
  {
   "cell_type": "code",
   "execution_count": 141,
   "source": [
    "# adding intercept to our rows\r\n",
    "\r\n",
    "summary_table.index = summary_table.index + 1\r\n",
    "summary_table.loc[0] = [\"Intercept\", reg.intercept_[0]]\r\n"
   ],
   "outputs": [],
   "metadata": {}
  },
  {
   "cell_type": "code",
   "execution_count": 142,
   "source": [
    "summary_table = summary_table.sort_index()\r\n",
    "print(summary_table)"
   ],
   "outputs": [
    {
     "output_type": "stream",
     "name": "stdout",
     "text": [
      "                    Feature  Coefficient\n",
      "0                 Intercept    -0.413219\n",
      "1                  Reason_1     1.797394\n",
      "2                  Reason_2     0.000037\n",
      "3                  Reason_3     1.118197\n",
      "4                  Reason_4     1.012192\n",
      "5               Month Value     0.070678\n",
      "6           Day of the Week    -0.356854\n",
      "7    Transportation Expense     0.627391\n",
      "8          Distance to Work    -0.310192\n",
      "9                       Age    -0.436648\n",
      "10  Daily Work Load Average    -0.108670\n",
      "11          Body Mass Index     0.562971\n",
      "12                Education    -0.234682\n",
      "13                 Children     0.554810\n",
      "14                     Pets    -0.052531\n"
     ]
    }
   ],
   "metadata": {}
  },
  {
   "cell_type": "code",
   "execution_count": 143,
   "source": [
    "summary_table[\"Odds_ratio\"] = np.exp(summary_table.Coefficient)\r\n",
    "\r\n",
    "summary_table"
   ],
   "outputs": [
    {
     "output_type": "execute_result",
     "data": {
      "text/html": [
       "<div>\n",
       "<style scoped>\n",
       "    .dataframe tbody tr th:only-of-type {\n",
       "        vertical-align: middle;\n",
       "    }\n",
       "\n",
       "    .dataframe tbody tr th {\n",
       "        vertical-align: top;\n",
       "    }\n",
       "\n",
       "    .dataframe thead th {\n",
       "        text-align: right;\n",
       "    }\n",
       "</style>\n",
       "<table border=\"1\" class=\"dataframe\">\n",
       "  <thead>\n",
       "    <tr style=\"text-align: right;\">\n",
       "      <th></th>\n",
       "      <th>Feature</th>\n",
       "      <th>Coefficient</th>\n",
       "      <th>Odds_ratio</th>\n",
       "    </tr>\n",
       "  </thead>\n",
       "  <tbody>\n",
       "    <tr>\n",
       "      <th>0</th>\n",
       "      <td>Intercept</td>\n",
       "      <td>-0.413219</td>\n",
       "      <td>0.661517</td>\n",
       "    </tr>\n",
       "    <tr>\n",
       "      <th>1</th>\n",
       "      <td>Reason_1</td>\n",
       "      <td>1.797394</td>\n",
       "      <td>6.033902</td>\n",
       "    </tr>\n",
       "    <tr>\n",
       "      <th>2</th>\n",
       "      <td>Reason_2</td>\n",
       "      <td>0.000037</td>\n",
       "      <td>1.000037</td>\n",
       "    </tr>\n",
       "    <tr>\n",
       "      <th>3</th>\n",
       "      <td>Reason_3</td>\n",
       "      <td>1.118197</td>\n",
       "      <td>3.059333</td>\n",
       "    </tr>\n",
       "    <tr>\n",
       "      <th>4</th>\n",
       "      <td>Reason_4</td>\n",
       "      <td>1.012192</td>\n",
       "      <td>2.751625</td>\n",
       "    </tr>\n",
       "    <tr>\n",
       "      <th>5</th>\n",
       "      <td>Month Value</td>\n",
       "      <td>0.070678</td>\n",
       "      <td>1.073235</td>\n",
       "    </tr>\n",
       "    <tr>\n",
       "      <th>6</th>\n",
       "      <td>Day of the Week</td>\n",
       "      <td>-0.356854</td>\n",
       "      <td>0.699875</td>\n",
       "    </tr>\n",
       "    <tr>\n",
       "      <th>7</th>\n",
       "      <td>Transportation Expense</td>\n",
       "      <td>0.627391</td>\n",
       "      <td>1.872718</td>\n",
       "    </tr>\n",
       "    <tr>\n",
       "      <th>8</th>\n",
       "      <td>Distance to Work</td>\n",
       "      <td>-0.310192</td>\n",
       "      <td>0.733306</td>\n",
       "    </tr>\n",
       "    <tr>\n",
       "      <th>9</th>\n",
       "      <td>Age</td>\n",
       "      <td>-0.436648</td>\n",
       "      <td>0.646199</td>\n",
       "    </tr>\n",
       "    <tr>\n",
       "      <th>10</th>\n",
       "      <td>Daily Work Load Average</td>\n",
       "      <td>-0.108670</td>\n",
       "      <td>0.897026</td>\n",
       "    </tr>\n",
       "    <tr>\n",
       "      <th>11</th>\n",
       "      <td>Body Mass Index</td>\n",
       "      <td>0.562971</td>\n",
       "      <td>1.755882</td>\n",
       "    </tr>\n",
       "    <tr>\n",
       "      <th>12</th>\n",
       "      <td>Education</td>\n",
       "      <td>-0.234682</td>\n",
       "      <td>0.790822</td>\n",
       "    </tr>\n",
       "    <tr>\n",
       "      <th>13</th>\n",
       "      <td>Children</td>\n",
       "      <td>0.554810</td>\n",
       "      <td>1.741609</td>\n",
       "    </tr>\n",
       "    <tr>\n",
       "      <th>14</th>\n",
       "      <td>Pets</td>\n",
       "      <td>-0.052531</td>\n",
       "      <td>0.948825</td>\n",
       "    </tr>\n",
       "  </tbody>\n",
       "</table>\n",
       "</div>"
      ],
      "text/plain": [
       "                    Feature  Coefficient  Odds_ratio\n",
       "0                 Intercept    -0.413219    0.661517\n",
       "1                  Reason_1     1.797394    6.033902\n",
       "2                  Reason_2     0.000037    1.000037\n",
       "3                  Reason_3     1.118197    3.059333\n",
       "4                  Reason_4     1.012192    2.751625\n",
       "5               Month Value     0.070678    1.073235\n",
       "6           Day of the Week    -0.356854    0.699875\n",
       "7    Transportation Expense     0.627391    1.872718\n",
       "8          Distance to Work    -0.310192    0.733306\n",
       "9                       Age    -0.436648    0.646199\n",
       "10  Daily Work Load Average    -0.108670    0.897026\n",
       "11          Body Mass Index     0.562971    1.755882\n",
       "12                Education    -0.234682    0.790822\n",
       "13                 Children     0.554810    1.741609\n",
       "14                     Pets    -0.052531    0.948825"
      ]
     },
     "metadata": {},
     "execution_count": 143
    }
   ],
   "metadata": {}
  },
  {
   "cell_type": "code",
   "execution_count": 144,
   "source": [
    "summary_table = summary_table.sort_values([\"Odds_ratio\"],ascending=False)\r\n",
    "summary_table"
   ],
   "outputs": [
    {
     "output_type": "execute_result",
     "data": {
      "text/html": [
       "<div>\n",
       "<style scoped>\n",
       "    .dataframe tbody tr th:only-of-type {\n",
       "        vertical-align: middle;\n",
       "    }\n",
       "\n",
       "    .dataframe tbody tr th {\n",
       "        vertical-align: top;\n",
       "    }\n",
       "\n",
       "    .dataframe thead th {\n",
       "        text-align: right;\n",
       "    }\n",
       "</style>\n",
       "<table border=\"1\" class=\"dataframe\">\n",
       "  <thead>\n",
       "    <tr style=\"text-align: right;\">\n",
       "      <th></th>\n",
       "      <th>Feature</th>\n",
       "      <th>Coefficient</th>\n",
       "      <th>Odds_ratio</th>\n",
       "    </tr>\n",
       "  </thead>\n",
       "  <tbody>\n",
       "    <tr>\n",
       "      <th>1</th>\n",
       "      <td>Reason_1</td>\n",
       "      <td>1.797394</td>\n",
       "      <td>6.033902</td>\n",
       "    </tr>\n",
       "    <tr>\n",
       "      <th>3</th>\n",
       "      <td>Reason_3</td>\n",
       "      <td>1.118197</td>\n",
       "      <td>3.059333</td>\n",
       "    </tr>\n",
       "    <tr>\n",
       "      <th>4</th>\n",
       "      <td>Reason_4</td>\n",
       "      <td>1.012192</td>\n",
       "      <td>2.751625</td>\n",
       "    </tr>\n",
       "    <tr>\n",
       "      <th>7</th>\n",
       "      <td>Transportation Expense</td>\n",
       "      <td>0.627391</td>\n",
       "      <td>1.872718</td>\n",
       "    </tr>\n",
       "    <tr>\n",
       "      <th>11</th>\n",
       "      <td>Body Mass Index</td>\n",
       "      <td>0.562971</td>\n",
       "      <td>1.755882</td>\n",
       "    </tr>\n",
       "    <tr>\n",
       "      <th>13</th>\n",
       "      <td>Children</td>\n",
       "      <td>0.554810</td>\n",
       "      <td>1.741609</td>\n",
       "    </tr>\n",
       "    <tr>\n",
       "      <th>5</th>\n",
       "      <td>Month Value</td>\n",
       "      <td>0.070678</td>\n",
       "      <td>1.073235</td>\n",
       "    </tr>\n",
       "    <tr>\n",
       "      <th>2</th>\n",
       "      <td>Reason_2</td>\n",
       "      <td>0.000037</td>\n",
       "      <td>1.000037</td>\n",
       "    </tr>\n",
       "    <tr>\n",
       "      <th>14</th>\n",
       "      <td>Pets</td>\n",
       "      <td>-0.052531</td>\n",
       "      <td>0.948825</td>\n",
       "    </tr>\n",
       "    <tr>\n",
       "      <th>10</th>\n",
       "      <td>Daily Work Load Average</td>\n",
       "      <td>-0.108670</td>\n",
       "      <td>0.897026</td>\n",
       "    </tr>\n",
       "    <tr>\n",
       "      <th>12</th>\n",
       "      <td>Education</td>\n",
       "      <td>-0.234682</td>\n",
       "      <td>0.790822</td>\n",
       "    </tr>\n",
       "    <tr>\n",
       "      <th>8</th>\n",
       "      <td>Distance to Work</td>\n",
       "      <td>-0.310192</td>\n",
       "      <td>0.733306</td>\n",
       "    </tr>\n",
       "    <tr>\n",
       "      <th>6</th>\n",
       "      <td>Day of the Week</td>\n",
       "      <td>-0.356854</td>\n",
       "      <td>0.699875</td>\n",
       "    </tr>\n",
       "    <tr>\n",
       "      <th>0</th>\n",
       "      <td>Intercept</td>\n",
       "      <td>-0.413219</td>\n",
       "      <td>0.661517</td>\n",
       "    </tr>\n",
       "    <tr>\n",
       "      <th>9</th>\n",
       "      <td>Age</td>\n",
       "      <td>-0.436648</td>\n",
       "      <td>0.646199</td>\n",
       "    </tr>\n",
       "  </tbody>\n",
       "</table>\n",
       "</div>"
      ],
      "text/plain": [
       "                    Feature  Coefficient  Odds_ratio\n",
       "1                  Reason_1     1.797394    6.033902\n",
       "3                  Reason_3     1.118197    3.059333\n",
       "4                  Reason_4     1.012192    2.751625\n",
       "7    Transportation Expense     0.627391    1.872718\n",
       "11          Body Mass Index     0.562971    1.755882\n",
       "13                 Children     0.554810    1.741609\n",
       "5               Month Value     0.070678    1.073235\n",
       "2                  Reason_2     0.000037    1.000037\n",
       "14                     Pets    -0.052531    0.948825\n",
       "10  Daily Work Load Average    -0.108670    0.897026\n",
       "12                Education    -0.234682    0.790822\n",
       "8          Distance to Work    -0.310192    0.733306\n",
       "6           Day of the Week    -0.356854    0.699875\n",
       "0                 Intercept    -0.413219    0.661517\n",
       "9                       Age    -0.436648    0.646199"
      ]
     },
     "metadata": {},
     "execution_count": 144
    }
   ],
   "metadata": {}
  }
 ],
 "metadata": {
  "orig_nbformat": 4,
  "language_info": {
   "name": "python",
   "version": "3.8.10",
   "mimetype": "text/x-python",
   "codemirror_mode": {
    "name": "ipython",
    "version": 3
   },
   "pygments_lexer": "ipython3",
   "nbconvert_exporter": "python",
   "file_extension": ".py"
  },
  "kernelspec": {
   "name": "python3",
   "display_name": "Python 3.8.10 64-bit (windows store)"
  },
  "interpreter": {
   "hash": "8a4473abb86bcdafceabd37651259593bd94b1da3a5661bdd90adfdc9ce6ad58"
  }
 },
 "nbformat": 4,
 "nbformat_minor": 2
}